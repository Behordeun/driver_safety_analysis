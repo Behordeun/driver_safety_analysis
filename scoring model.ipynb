{
 "cells": [
  {
   "cell_type": "code",
   "execution_count": 1,
   "metadata": {},
   "outputs": [],
   "source": [
    "import pandas as pd\n",
    "import numpy as np\n",
    "import plotly.graph_objects as go\n",
    "import plotly.express as px\n",
    "import plotly.figure_factory as ff\n",
    "import plotly.io as pio\n",
    "import haversine as hs\n",
    "import scipy.stats as st\n",
    "import seaborn as sns\n",
    "sns.set()\n",
    "\n",
    "from sklearn.neighbors import LocalOutlierFactor\n",
    "from sklearn.decomposition import PCA\n",
    "from sklearn.linear_model import LinearRegression\n",
    "from faker import Faker\n",
    "\n",
    "pio.renderers.default = \"notebook\"\n",
    "\n",
    "## Suppress scientific notation\n",
    "pd.options.display.float_format = '{:.4f}'.format\n",
    "\n",
    "import warnings\n",
    "warnings.filterwarnings(\"ignore\")"
   ]
  },
  {
   "cell_type": "code",
   "execution_count": 2,
   "metadata": {},
   "outputs": [
    {
     "data": {
      "text/html": [
       "<div>\n",
       "<style scoped>\n",
       "    .dataframe tbody tr th:only-of-type {\n",
       "        vertical-align: middle;\n",
       "    }\n",
       "\n",
       "    .dataframe tbody tr th {\n",
       "        vertical-align: top;\n",
       "    }\n",
       "\n",
       "    .dataframe thead th {\n",
       "        text-align: right;\n",
       "    }\n",
       "</style>\n",
       "<table border=\"1\" class=\"dataframe\">\n",
       "  <thead>\n",
       "    <tr style=\"text-align: right;\">\n",
       "      <th></th>\n",
       "      <th>DriverId</th>\n",
       "      <th>EventName</th>\n",
       "      <th>Latitude</th>\n",
       "      <th>Longitude</th>\n",
       "      <th>Speed km/h</th>\n",
       "      <th>ts</th>\n",
       "    </tr>\n",
       "  </thead>\n",
       "  <tbody>\n",
       "    <tr>\n",
       "      <th>0</th>\n",
       "      <td>0</td>\n",
       "      <td>Timed Event</td>\n",
       "      <td>34.1866</td>\n",
       "      <td>-118.0881</td>\n",
       "      <td>64.0000</td>\n",
       "      <td>2017-11-01 00:00:02.430</td>\n",
       "    </tr>\n",
       "    <tr>\n",
       "      <th>1</th>\n",
       "      <td>0</td>\n",
       "      <td>Distance Event</td>\n",
       "      <td>34.1861</td>\n",
       "      <td>-118.0892</td>\n",
       "      <td>53.0000</td>\n",
       "      <td>2017-11-01 00:00:05.600</td>\n",
       "    </tr>\n",
       "    <tr>\n",
       "      <th>2</th>\n",
       "      <td>0</td>\n",
       "      <td>Distance Event</td>\n",
       "      <td>34.1864</td>\n",
       "      <td>-118.0896</td>\n",
       "      <td>34.0000</td>\n",
       "      <td>2017-11-01 00:00:13.640</td>\n",
       "    </tr>\n",
       "    <tr>\n",
       "      <th>3</th>\n",
       "      <td>0</td>\n",
       "      <td>Distance Event</td>\n",
       "      <td>34.1875</td>\n",
       "      <td>-118.0889</td>\n",
       "      <td>33.0000</td>\n",
       "      <td>2017-11-01 00:00:26.070</td>\n",
       "    </tr>\n",
       "    <tr>\n",
       "      <th>4</th>\n",
       "      <td>0</td>\n",
       "      <td>Distance Event</td>\n",
       "      <td>34.1887</td>\n",
       "      <td>-118.0865</td>\n",
       "      <td>32.0000</td>\n",
       "      <td>2017-11-01 00:00:35.090</td>\n",
       "    </tr>\n",
       "  </tbody>\n",
       "</table>\n",
       "</div>"
      ],
      "text/plain": [
       "   DriverId       EventName  Latitude  Longitude  Speed km/h  \\\n",
       "0         0     Timed Event   34.1866  -118.0881     64.0000   \n",
       "1         0  Distance Event   34.1861  -118.0892     53.0000   \n",
       "2         0  Distance Event   34.1864  -118.0896     34.0000   \n",
       "3         0  Distance Event   34.1875  -118.0889     33.0000   \n",
       "4         0  Distance Event   34.1887  -118.0865     32.0000   \n",
       "\n",
       "                        ts  \n",
       "0  2017-11-01 00:00:02.430  \n",
       "1  2017-11-01 00:00:05.600  \n",
       "2  2017-11-01 00:00:13.640  \n",
       "3  2017-11-01 00:00:26.070  \n",
       "4  2017-11-01 00:00:35.090  "
      ]
     },
     "execution_count": 2,
     "metadata": {},
     "output_type": "execute_result"
    }
   ],
   "source": [
    "df = pd.read_csv('./dataset.csv')\n",
    "df.head()"
   ]
  },
  {
   "cell_type": "code",
   "execution_count": 3,
   "metadata": {},
   "outputs": [
    {
     "data": {
      "text/html": [
       "<div>\n",
       "<style scoped>\n",
       "    .dataframe tbody tr th:only-of-type {\n",
       "        vertical-align: middle;\n",
       "    }\n",
       "\n",
       "    .dataframe tbody tr th {\n",
       "        vertical-align: top;\n",
       "    }\n",
       "\n",
       "    .dataframe thead th {\n",
       "        text-align: right;\n",
       "    }\n",
       "</style>\n",
       "<table border=\"1\" class=\"dataframe\">\n",
       "  <thead>\n",
       "    <tr style=\"text-align: right;\">\n",
       "      <th></th>\n",
       "      <th>DriverId</th>\n",
       "      <th>EventName</th>\n",
       "      <th>Latitude</th>\n",
       "      <th>Longitude</th>\n",
       "      <th>Speed km/h</th>\n",
       "      <th>ts</th>\n",
       "    </tr>\n",
       "  </thead>\n",
       "  <tbody>\n",
       "    <tr>\n",
       "      <th>0</th>\n",
       "      <td>0</td>\n",
       "      <td>Timed Event</td>\n",
       "      <td>34.1866</td>\n",
       "      <td>-118.0881</td>\n",
       "      <td>64.0000</td>\n",
       "      <td>2017-11-01 00:00:02.430</td>\n",
       "    </tr>\n",
       "    <tr>\n",
       "      <th>1</th>\n",
       "      <td>0</td>\n",
       "      <td>Distance Event</td>\n",
       "      <td>34.1861</td>\n",
       "      <td>-118.0892</td>\n",
       "      <td>53.0000</td>\n",
       "      <td>2017-11-01 00:00:05.600</td>\n",
       "    </tr>\n",
       "    <tr>\n",
       "      <th>2</th>\n",
       "      <td>0</td>\n",
       "      <td>Distance Event</td>\n",
       "      <td>34.1864</td>\n",
       "      <td>-118.0896</td>\n",
       "      <td>34.0000</td>\n",
       "      <td>2017-11-01 00:00:13.640</td>\n",
       "    </tr>\n",
       "    <tr>\n",
       "      <th>3</th>\n",
       "      <td>0</td>\n",
       "      <td>Distance Event</td>\n",
       "      <td>34.1875</td>\n",
       "      <td>-118.0889</td>\n",
       "      <td>33.0000</td>\n",
       "      <td>2017-11-01 00:00:26.070</td>\n",
       "    </tr>\n",
       "    <tr>\n",
       "      <th>4</th>\n",
       "      <td>0</td>\n",
       "      <td>Distance Event</td>\n",
       "      <td>34.1887</td>\n",
       "      <td>-118.0865</td>\n",
       "      <td>32.0000</td>\n",
       "      <td>2017-11-01 00:00:35.090</td>\n",
       "    </tr>\n",
       "  </tbody>\n",
       "</table>\n",
       "</div>"
      ],
      "text/plain": [
       "   DriverId       EventName  Latitude  Longitude  Speed km/h  \\\n",
       "0         0     Timed Event   34.1866  -118.0881     64.0000   \n",
       "1         0  Distance Event   34.1861  -118.0892     53.0000   \n",
       "2         0  Distance Event   34.1864  -118.0896     34.0000   \n",
       "3         0  Distance Event   34.1875  -118.0889     33.0000   \n",
       "4         0  Distance Event   34.1887  -118.0865     32.0000   \n",
       "\n",
       "                       ts  \n",
       "0 2017-11-01 00:00:02.430  \n",
       "1 2017-11-01 00:00:05.600  \n",
       "2 2017-11-01 00:00:13.640  \n",
       "3 2017-11-01 00:00:26.070  \n",
       "4 2017-11-01 00:00:35.090  "
      ]
     },
     "execution_count": 3,
     "metadata": {},
     "output_type": "execute_result"
    }
   ],
   "source": [
    "df['ts'] = pd.to_datetime(df['ts'])\n",
    "df.head()"
   ]
  },
  {
   "cell_type": "code",
   "execution_count": 7,
   "metadata": {},
   "outputs": [
    {
     "data": {
      "text/plain": [
       "10108.0"
      ]
     },
     "execution_count": 7,
     "metadata": {},
     "output_type": "execute_result"
    }
   ],
   "source": [
    "eventsPerDriver = df.groupby('DriverId').agg({\"EventName\":\"count\"}).add_suffix('_count')\n",
    "averageNoEvents = np.mean(eventsPerDriver).values[0].round(1)\n",
    "averageNoEvents"
   ]
  },
  {
   "cell_type": "code",
   "execution_count": 8,
   "metadata": {},
   "outputs": [
    {
     "data": {
      "text/html": [
       "<div>\n",
       "<style scoped>\n",
       "    .dataframe tbody tr th:only-of-type {\n",
       "        vertical-align: middle;\n",
       "    }\n",
       "\n",
       "    .dataframe tbody tr th {\n",
       "        vertical-align: top;\n",
       "    }\n",
       "\n",
       "    .dataframe thead th {\n",
       "        text-align: right;\n",
       "    }\n",
       "</style>\n",
       "<table border=\"1\" class=\"dataframe\">\n",
       "  <thead>\n",
       "    <tr style=\"text-align: right;\">\n",
       "      <th></th>\n",
       "      <th>EventName_count</th>\n",
       "    </tr>\n",
       "    <tr>\n",
       "      <th>DriverId</th>\n",
       "      <th></th>\n",
       "    </tr>\n",
       "  </thead>\n",
       "  <tbody>\n",
       "    <tr>\n",
       "      <th>0</th>\n",
       "      <td>17345</td>\n",
       "    </tr>\n",
       "    <tr>\n",
       "      <th>1</th>\n",
       "      <td>20694</td>\n",
       "    </tr>\n",
       "    <tr>\n",
       "      <th>2</th>\n",
       "      <td>11945</td>\n",
       "    </tr>\n",
       "    <tr>\n",
       "      <th>3</th>\n",
       "      <td>819</td>\n",
       "    </tr>\n",
       "    <tr>\n",
       "      <th>4</th>\n",
       "      <td>6811</td>\n",
       "    </tr>\n",
       "  </tbody>\n",
       "</table>\n",
       "</div>"
      ],
      "text/plain": [
       "          EventName_count\n",
       "DriverId                 \n",
       "0                   17345\n",
       "1                   20694\n",
       "2                   11945\n",
       "3                     819\n",
       "4                    6811"
      ]
     },
     "execution_count": 8,
     "metadata": {},
     "output_type": "execute_result"
    }
   ],
   "source": [
    "eventsPerDriver.head()"
   ]
  },
  {
   "cell_type": "code",
   "execution_count": 10,
   "metadata": {},
   "outputs": [
    {
     "data": {
      "text/html": [
       "<div>\n",
       "<style scoped>\n",
       "    .dataframe tbody tr th:only-of-type {\n",
       "        vertical-align: middle;\n",
       "    }\n",
       "\n",
       "    .dataframe tbody tr th {\n",
       "        vertical-align: top;\n",
       "    }\n",
       "\n",
       "    .dataframe thead th {\n",
       "        text-align: right;\n",
       "    }\n",
       "</style>\n",
       "<table border=\"1\" class=\"dataframe\">\n",
       "  <thead>\n",
       "    <tr style=\"text-align: right;\">\n",
       "      <th></th>\n",
       "      <th>EventName_count</th>\n",
       "    </tr>\n",
       "    <tr>\n",
       "      <th>DriverId</th>\n",
       "      <th></th>\n",
       "    </tr>\n",
       "  </thead>\n",
       "  <tbody>\n",
       "    <tr>\n",
       "      <th>49</th>\n",
       "      <td>31942</td>\n",
       "    </tr>\n",
       "    <tr>\n",
       "      <th>77</th>\n",
       "      <td>30420</td>\n",
       "    </tr>\n",
       "    <tr>\n",
       "      <th>45</th>\n",
       "      <td>30319</td>\n",
       "    </tr>\n",
       "    <tr>\n",
       "      <th>51</th>\n",
       "      <td>26917</td>\n",
       "    </tr>\n",
       "    <tr>\n",
       "      <th>5</th>\n",
       "      <td>24152</td>\n",
       "    </tr>\n",
       "  </tbody>\n",
       "</table>\n",
       "</div>"
      ],
      "text/plain": [
       "          EventName_count\n",
       "DriverId                 \n",
       "49                  31942\n",
       "77                  30420\n",
       "45                  30319\n",
       "51                  26917\n",
       "5                   24152"
      ]
     },
     "execution_count": 10,
     "metadata": {},
     "output_type": "execute_result"
    }
   ],
   "source": [
    "eventsPerDriver.sort_values(by='EventName_count', ascending=False, inplace=True)\n",
    "eventsPerDriver.head()"
   ]
  },
  {
   "cell_type": "code",
   "execution_count": 11,
   "metadata": {},
   "outputs": [
    {
     "ename": "ValueError",
     "evalue": "Value of 'color' is not the name of a column in 'data_frame'. Expected one of ['EventName_count'] but received: driverId",
     "output_type": "error",
     "traceback": [
      "\u001b[1;31m---------------------------------------------------------------------------\u001b[0m",
      "\u001b[1;31mValueError\u001b[0m                                Traceback (most recent call last)",
      "\u001b[1;32mc:\\Users\\princ\\driver_safety_analysis\\scoring model.ipynb Cell 7'\u001b[0m in \u001b[0;36m<cell line: 1>\u001b[1;34m()\u001b[0m\n\u001b[1;32m----> <a href='vscode-notebook-cell:/c%3A/Users/princ/driver_safety_analysis/scoring%20model.ipynb#ch0000006?line=0'>1</a>\u001b[0m fig \u001b[39m=\u001b[39m px\u001b[39m.\u001b[39;49mhistogram(eventsPerDriver, x\u001b[39m=\u001b[39;49m\u001b[39m'\u001b[39;49m\u001b[39mEventName_count\u001b[39;49m\u001b[39m'\u001b[39;49m, color\u001b[39m=\u001b[39;49m\u001b[39m'\u001b[39;49m\u001b[39mdriverId\u001b[39;49m\u001b[39m'\u001b[39;49m, title\u001b[39m=\u001b[39;49m\u001b[39m'\u001b[39;49m\u001b[39mHistogram of driverId by Number of Events\u001b[39;49m\u001b[39m'\u001b[39;49m)\n\u001b[0;32m      <a href='vscode-notebook-cell:/c%3A/Users/princ/driver_safety_analysis/scoring%20model.ipynb#ch0000006?line=2'>3</a>\u001b[0m fig\u001b[39m.\u001b[39mshow()\n",
      "File \u001b[1;32m~\\anaconda3\\lib\\site-packages\\plotly\\express\\_chart_types.py:450\u001b[0m, in \u001b[0;36mhistogram\u001b[1;34m(data_frame, x, y, color, facet_row, facet_col, facet_col_wrap, facet_row_spacing, facet_col_spacing, hover_name, hover_data, animation_frame, animation_group, category_orders, labels, color_discrete_sequence, color_discrete_map, marginal, opacity, orientation, barmode, barnorm, histnorm, log_x, log_y, range_x, range_y, histfunc, cumulative, nbins, title, template, width, height)\u001b[0m\n\u001b[0;32m    <a href='file:///c%3A/Users/princ/anaconda3/lib/site-packages/plotly/express/_chart_types.py?line=407'>408</a>\u001b[0m \u001b[39mdef\u001b[39;00m \u001b[39mhistogram\u001b[39m(\n\u001b[0;32m    <a href='file:///c%3A/Users/princ/anaconda3/lib/site-packages/plotly/express/_chart_types.py?line=408'>409</a>\u001b[0m     data_frame\u001b[39m=\u001b[39m\u001b[39mNone\u001b[39;00m,\n\u001b[0;32m    <a href='file:///c%3A/Users/princ/anaconda3/lib/site-packages/plotly/express/_chart_types.py?line=409'>410</a>\u001b[0m     x\u001b[39m=\u001b[39m\u001b[39mNone\u001b[39;00m,\n\u001b[1;32m   (...)\u001b[0m\n\u001b[0;32m    <a href='file:///c%3A/Users/princ/anaconda3/lib/site-packages/plotly/express/_chart_types.py?line=441'>442</a>\u001b[0m     height\u001b[39m=\u001b[39m\u001b[39mNone\u001b[39;00m,\n\u001b[0;32m    <a href='file:///c%3A/Users/princ/anaconda3/lib/site-packages/plotly/express/_chart_types.py?line=442'>443</a>\u001b[0m ):\n\u001b[0;32m    <a href='file:///c%3A/Users/princ/anaconda3/lib/site-packages/plotly/express/_chart_types.py?line=443'>444</a>\u001b[0m     \u001b[39m\"\"\"\u001b[39;00m\n\u001b[0;32m    <a href='file:///c%3A/Users/princ/anaconda3/lib/site-packages/plotly/express/_chart_types.py?line=444'>445</a>\u001b[0m \u001b[39m    In a histogram, rows of `data_frame` are grouped together into a\u001b[39;00m\n\u001b[0;32m    <a href='file:///c%3A/Users/princ/anaconda3/lib/site-packages/plotly/express/_chart_types.py?line=445'>446</a>\u001b[0m \u001b[39m    rectangular mark to visualize the 1D distribution of an aggregate\u001b[39;00m\n\u001b[0;32m    <a href='file:///c%3A/Users/princ/anaconda3/lib/site-packages/plotly/express/_chart_types.py?line=446'>447</a>\u001b[0m \u001b[39m    function `histfunc` (e.g. the count or sum) of the value `y` (or `x` if\u001b[39;00m\n\u001b[0;32m    <a href='file:///c%3A/Users/princ/anaconda3/lib/site-packages/plotly/express/_chart_types.py?line=447'>448</a>\u001b[0m \u001b[39m    `orientation` is `'h'`).\u001b[39;00m\n\u001b[0;32m    <a href='file:///c%3A/Users/princ/anaconda3/lib/site-packages/plotly/express/_chart_types.py?line=448'>449</a>\u001b[0m \u001b[39m    \"\"\"\u001b[39;00m\n\u001b[1;32m--> <a href='file:///c%3A/Users/princ/anaconda3/lib/site-packages/plotly/express/_chart_types.py?line=449'>450</a>\u001b[0m     \u001b[39mreturn\u001b[39;00m make_figure(\n\u001b[0;32m    <a href='file:///c%3A/Users/princ/anaconda3/lib/site-packages/plotly/express/_chart_types.py?line=450'>451</a>\u001b[0m         args\u001b[39m=\u001b[39;49m\u001b[39mlocals\u001b[39;49m(),\n\u001b[0;32m    <a href='file:///c%3A/Users/princ/anaconda3/lib/site-packages/plotly/express/_chart_types.py?line=451'>452</a>\u001b[0m         constructor\u001b[39m=\u001b[39;49mgo\u001b[39m.\u001b[39;49mHistogram,\n\u001b[0;32m    <a href='file:///c%3A/Users/princ/anaconda3/lib/site-packages/plotly/express/_chart_types.py?line=452'>453</a>\u001b[0m         trace_patch\u001b[39m=\u001b[39;49m\u001b[39mdict\u001b[39;49m(\n\u001b[0;32m    <a href='file:///c%3A/Users/princ/anaconda3/lib/site-packages/plotly/express/_chart_types.py?line=453'>454</a>\u001b[0m             histnorm\u001b[39m=\u001b[39;49mhistnorm, histfunc\u001b[39m=\u001b[39;49mhistfunc, cumulative\u001b[39m=\u001b[39;49m\u001b[39mdict\u001b[39;49m(enabled\u001b[39m=\u001b[39;49mcumulative),\n\u001b[0;32m    <a href='file:///c%3A/Users/princ/anaconda3/lib/site-packages/plotly/express/_chart_types.py?line=454'>455</a>\u001b[0m         ),\n\u001b[0;32m    <a href='file:///c%3A/Users/princ/anaconda3/lib/site-packages/plotly/express/_chart_types.py?line=455'>456</a>\u001b[0m         layout_patch\u001b[39m=\u001b[39;49m\u001b[39mdict\u001b[39;49m(barmode\u001b[39m=\u001b[39;49mbarmode, barnorm\u001b[39m=\u001b[39;49mbarnorm),\n\u001b[0;32m    <a href='file:///c%3A/Users/princ/anaconda3/lib/site-packages/plotly/express/_chart_types.py?line=456'>457</a>\u001b[0m     )\n",
      "File \u001b[1;32m~\\anaconda3\\lib\\site-packages\\plotly\\express\\_core.py:1861\u001b[0m, in \u001b[0;36mmake_figure\u001b[1;34m(args, constructor, trace_patch, layout_patch)\u001b[0m\n\u001b[0;32m   <a href='file:///c%3A/Users/princ/anaconda3/lib/site-packages/plotly/express/_core.py?line=1857'>1858</a>\u001b[0m layout_patch \u001b[39m=\u001b[39m layout_patch \u001b[39mor\u001b[39;00m {}\n\u001b[0;32m   <a href='file:///c%3A/Users/princ/anaconda3/lib/site-packages/plotly/express/_core.py?line=1858'>1859</a>\u001b[0m apply_default_cascade(args)\n\u001b[1;32m-> <a href='file:///c%3A/Users/princ/anaconda3/lib/site-packages/plotly/express/_core.py?line=1860'>1861</a>\u001b[0m args \u001b[39m=\u001b[39m build_dataframe(args, constructor)\n\u001b[0;32m   <a href='file:///c%3A/Users/princ/anaconda3/lib/site-packages/plotly/express/_core.py?line=1861'>1862</a>\u001b[0m \u001b[39mif\u001b[39;00m constructor \u001b[39min\u001b[39;00m [go\u001b[39m.\u001b[39mTreemap, go\u001b[39m.\u001b[39mSunburst] \u001b[39mand\u001b[39;00m args[\u001b[39m\"\u001b[39m\u001b[39mpath\u001b[39m\u001b[39m\"\u001b[39m] \u001b[39mis\u001b[39;00m \u001b[39mnot\u001b[39;00m \u001b[39mNone\u001b[39;00m:\n\u001b[0;32m   <a href='file:///c%3A/Users/princ/anaconda3/lib/site-packages/plotly/express/_core.py?line=1862'>1863</a>\u001b[0m     args \u001b[39m=\u001b[39m process_dataframe_hierarchy(args)\n",
      "File \u001b[1;32m~\\anaconda3\\lib\\site-packages\\plotly\\express\\_core.py:1377\u001b[0m, in \u001b[0;36mbuild_dataframe\u001b[1;34m(args, constructor)\u001b[0m\n\u001b[0;32m   <a href='file:///c%3A/Users/princ/anaconda3/lib/site-packages/plotly/express/_core.py?line=1373'>1374</a>\u001b[0m     args[\u001b[39m\"\u001b[39m\u001b[39mcolor\u001b[39m\u001b[39m\"\u001b[39m] \u001b[39m=\u001b[39m \u001b[39mNone\u001b[39;00m\n\u001b[0;32m   <a href='file:///c%3A/Users/princ/anaconda3/lib/site-packages/plotly/express/_core.py?line=1374'>1375</a>\u001b[0m \u001b[39m# now that things have been prepped, we do the systematic rewriting of `args`\u001b[39;00m\n\u001b[1;32m-> <a href='file:///c%3A/Users/princ/anaconda3/lib/site-packages/plotly/express/_core.py?line=1376'>1377</a>\u001b[0m df_output, wide_id_vars \u001b[39m=\u001b[39m process_args_into_dataframe(\n\u001b[0;32m   <a href='file:///c%3A/Users/princ/anaconda3/lib/site-packages/plotly/express/_core.py?line=1377'>1378</a>\u001b[0m     args, wide_mode, var_name, value_name\n\u001b[0;32m   <a href='file:///c%3A/Users/princ/anaconda3/lib/site-packages/plotly/express/_core.py?line=1378'>1379</a>\u001b[0m )\n\u001b[0;32m   <a href='file:///c%3A/Users/princ/anaconda3/lib/site-packages/plotly/express/_core.py?line=1380'>1381</a>\u001b[0m \u001b[39m# now that `df_output` exists and `args` contains only references, we complete\u001b[39;00m\n\u001b[0;32m   <a href='file:///c%3A/Users/princ/anaconda3/lib/site-packages/plotly/express/_core.py?line=1381'>1382</a>\u001b[0m \u001b[39m# the special-case and wide-mode handling by further rewriting args and/or mutating\u001b[39;00m\n\u001b[0;32m   <a href='file:///c%3A/Users/princ/anaconda3/lib/site-packages/plotly/express/_core.py?line=1382'>1383</a>\u001b[0m \u001b[39m# df_output\u001b[39;00m\n\u001b[0;32m   <a href='file:///c%3A/Users/princ/anaconda3/lib/site-packages/plotly/express/_core.py?line=1384'>1385</a>\u001b[0m count_name \u001b[39m=\u001b[39m _escape_col_name(df_output, \u001b[39m\"\u001b[39m\u001b[39mcount\u001b[39m\u001b[39m\"\u001b[39m, [var_name, value_name])\n",
      "File \u001b[1;32m~\\anaconda3\\lib\\site-packages\\plotly\\express\\_core.py:1183\u001b[0m, in \u001b[0;36mprocess_args_into_dataframe\u001b[1;34m(args, wide_mode, var_name, value_name)\u001b[0m\n\u001b[0;32m   <a href='file:///c%3A/Users/princ/anaconda3/lib/site-packages/plotly/express/_core.py?line=1180'>1181</a>\u001b[0m         \u001b[39mif\u001b[39;00m argument \u001b[39m==\u001b[39m \u001b[39m\"\u001b[39m\u001b[39mindex\u001b[39m\u001b[39m\"\u001b[39m:\n\u001b[0;32m   <a href='file:///c%3A/Users/princ/anaconda3/lib/site-packages/plotly/express/_core.py?line=1181'>1182</a>\u001b[0m             err_msg \u001b[39m+\u001b[39m\u001b[39m=\u001b[39m \u001b[39m\"\u001b[39m\u001b[39m\\n\u001b[39;00m\u001b[39m To use the index, pass it in directly as `df.index`.\u001b[39m\u001b[39m\"\u001b[39m\n\u001b[1;32m-> <a href='file:///c%3A/Users/princ/anaconda3/lib/site-packages/plotly/express/_core.py?line=1182'>1183</a>\u001b[0m         \u001b[39mraise\u001b[39;00m \u001b[39mValueError\u001b[39;00m(err_msg)\n\u001b[0;32m   <a href='file:///c%3A/Users/princ/anaconda3/lib/site-packages/plotly/express/_core.py?line=1183'>1184</a>\u001b[0m \u001b[39melif\u001b[39;00m length \u001b[39mand\u001b[39;00m \u001b[39mlen\u001b[39m(df_input[argument]) \u001b[39m!=\u001b[39m length:\n\u001b[0;32m   <a href='file:///c%3A/Users/princ/anaconda3/lib/site-packages/plotly/express/_core.py?line=1184'>1185</a>\u001b[0m     \u001b[39mraise\u001b[39;00m \u001b[39mValueError\u001b[39;00m(\n\u001b[0;32m   <a href='file:///c%3A/Users/princ/anaconda3/lib/site-packages/plotly/express/_core.py?line=1185'>1186</a>\u001b[0m         \u001b[39m\"\u001b[39m\u001b[39mAll arguments should have the same length. \u001b[39m\u001b[39m\"\u001b[39m\n\u001b[0;32m   <a href='file:///c%3A/Users/princ/anaconda3/lib/site-packages/plotly/express/_core.py?line=1186'>1187</a>\u001b[0m         \u001b[39m\"\u001b[39m\u001b[39mThe length of column argument `df[\u001b[39m\u001b[39m%s\u001b[39;00m\u001b[39m]` is \u001b[39m\u001b[39m%d\u001b[39;00m\u001b[39m, whereas the \u001b[39m\u001b[39m\"\u001b[39m\n\u001b[1;32m   (...)\u001b[0m\n\u001b[0;32m   <a href='file:///c%3A/Users/princ/anaconda3/lib/site-packages/plotly/express/_core.py?line=1193'>1194</a>\u001b[0m         )\n\u001b[0;32m   <a href='file:///c%3A/Users/princ/anaconda3/lib/site-packages/plotly/express/_core.py?line=1194'>1195</a>\u001b[0m     )\n",
      "\u001b[1;31mValueError\u001b[0m: Value of 'color' is not the name of a column in 'data_frame'. Expected one of ['EventName_count'] but received: driverId"
     ]
    }
   ],
   "source": [
    "fig = px.histogram(eventsPerDriver, x='EventName_count', color='driverId', title='Histogram of driverId by Number of Events')\n",
    "\n",
    "fig.show()"
   ]
  },
  {
   "cell_type": "code",
   "execution_count": null,
   "metadata": {},
   "outputs": [],
   "source": []
  }
 ],
 "metadata": {
  "interpreter": {
   "hash": "fe931fc00aae84fbb0e979f82652a462550258a3781d9c97e8e4daa933cbf1f3"
  },
  "kernelspec": {
   "display_name": "Python 3 (ipykernel)",
   "language": "python",
   "name": "python3"
  },
  "language_info": {
   "codemirror_mode": {
    "name": "ipython",
    "version": 3
   },
   "file_extension": ".py",
   "mimetype": "text/x-python",
   "name": "python",
   "nbconvert_exporter": "python",
   "pygments_lexer": "ipython3",
   "version": "3.9.7"
  }
 },
 "nbformat": 4,
 "nbformat_minor": 4
}
