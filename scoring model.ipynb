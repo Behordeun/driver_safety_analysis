{
 "cells": [
  {
   "cell_type": "code",
   "execution_count": 1,
   "metadata": {},
   "outputs": [],
   "source": [
    "import pandas as pd\n",
    "import numpy as np\n",
    "import plotly.graph_objects as go\n",
    "import plotly.express as px\n",
    "import plotly.figure_factory as ff\n",
    "import plotly.io as pio\n",
    "import haversine as hs\n",
    "import scipy.stats as st\n",
    "import seaborn as sns\n",
    "sns.set()\n",
    "\n",
    "from sklearn.neighbors import LocalOutlierFactor\n",
    "from sklearn.decomposition import PCA\n",
    "from sklearn.linear_model import LinearRegression\n",
    "\n",
    "pio.renderers.default = \"notebook\"\n",
    "\n",
    "## Suppress scientific notation\n",
    "pd.options.display.float_format = '{:.4f}'.format\n",
    "\n",
    "import warnings\n",
    "warnings.filterwarnings(\"ignore\")"
   ]
  },
  {
   "cell_type": "code",
   "execution_count": 2,
   "metadata": {},
   "outputs": [
    {
     "data": {
      "text/html": [
       "<div>\n",
       "<style scoped>\n",
       "    .dataframe tbody tr th:only-of-type {\n",
       "        vertical-align: middle;\n",
       "    }\n",
       "\n",
       "    .dataframe tbody tr th {\n",
       "        vertical-align: top;\n",
       "    }\n",
       "\n",
       "    .dataframe thead th {\n",
       "        text-align: right;\n",
       "    }\n",
       "</style>\n",
       "<table border=\"1\" class=\"dataframe\">\n",
       "  <thead>\n",
       "    <tr style=\"text-align: right;\">\n",
       "      <th></th>\n",
       "      <th>DriverId</th>\n",
       "      <th>EventName</th>\n",
       "      <th>Latitude</th>\n",
       "      <th>Longitude</th>\n",
       "      <th>Speed km/h</th>\n",
       "      <th>ts</th>\n",
       "    </tr>\n",
       "  </thead>\n",
       "  <tbody>\n",
       "    <tr>\n",
       "      <th>0</th>\n",
       "      <td>0</td>\n",
       "      <td>Timed Event</td>\n",
       "      <td>34.1866</td>\n",
       "      <td>-118.0881</td>\n",
       "      <td>64.0000</td>\n",
       "      <td>2017-11-01 00:00:02.430</td>\n",
       "    </tr>\n",
       "    <tr>\n",
       "      <th>1</th>\n",
       "      <td>0</td>\n",
       "      <td>Distance Event</td>\n",
       "      <td>34.1861</td>\n",
       "      <td>-118.0892</td>\n",
       "      <td>53.0000</td>\n",
       "      <td>2017-11-01 00:00:05.600</td>\n",
       "    </tr>\n",
       "    <tr>\n",
       "      <th>2</th>\n",
       "      <td>0</td>\n",
       "      <td>Distance Event</td>\n",
       "      <td>34.1864</td>\n",
       "      <td>-118.0896</td>\n",
       "      <td>34.0000</td>\n",
       "      <td>2017-11-01 00:00:13.640</td>\n",
       "    </tr>\n",
       "    <tr>\n",
       "      <th>3</th>\n",
       "      <td>0</td>\n",
       "      <td>Distance Event</td>\n",
       "      <td>34.1875</td>\n",
       "      <td>-118.0889</td>\n",
       "      <td>33.0000</td>\n",
       "      <td>2017-11-01 00:00:26.070</td>\n",
       "    </tr>\n",
       "    <tr>\n",
       "      <th>4</th>\n",
       "      <td>0</td>\n",
       "      <td>Distance Event</td>\n",
       "      <td>34.1887</td>\n",
       "      <td>-118.0865</td>\n",
       "      <td>32.0000</td>\n",
       "      <td>2017-11-01 00:00:35.090</td>\n",
       "    </tr>\n",
       "  </tbody>\n",
       "</table>\n",
       "</div>"
      ],
      "text/plain": [
       "   DriverId       EventName  Latitude  Longitude  Speed km/h  \\\n",
       "0         0     Timed Event   34.1866  -118.0881     64.0000   \n",
       "1         0  Distance Event   34.1861  -118.0892     53.0000   \n",
       "2         0  Distance Event   34.1864  -118.0896     34.0000   \n",
       "3         0  Distance Event   34.1875  -118.0889     33.0000   \n",
       "4         0  Distance Event   34.1887  -118.0865     32.0000   \n",
       "\n",
       "                        ts  \n",
       "0  2017-11-01 00:00:02.430  \n",
       "1  2017-11-01 00:00:05.600  \n",
       "2  2017-11-01 00:00:13.640  \n",
       "3  2017-11-01 00:00:26.070  \n",
       "4  2017-11-01 00:00:35.090  "
      ]
     },
     "execution_count": 2,
     "metadata": {},
     "output_type": "execute_result"
    }
   ],
   "source": [
    "df = pd.read_csv('./dataset.csv')\n",
    "df.head()"
   ]
  },
  {
   "cell_type": "code",
   "execution_count": 4,
   "metadata": {},
   "outputs": [
    {
     "ename": "Error",
     "evalue": "Canceled future for execute_request message before replies were done",
     "output_type": "error",
     "traceback": [
      "Error: Canceled future for execute_request message before replies were done",
      "at t.KernelShellFutureHandler.dispose (c:\\Users\\princ\\.vscode\\extensions\\ms-toolsai.jupyter-2022.4.1000912146\\out\\extension.node.js:2:1199393)",
      "at c:\\Users\\princ\\.vscode\\extensions\\ms-toolsai.jupyter-2022.4.1000912146\\out\\extension.node.js:2:1218445",
      "at Map.forEach (<anonymous>)",
      "at v._clearKernelState (c:\\Users\\princ\\.vscode\\extensions\\ms-toolsai.jupyter-2022.4.1000912146\\out\\extension.node.js:2:1218430)",
      "at v.dispose (c:\\Users\\princ\\.vscode\\extensions\\ms-toolsai.jupyter-2022.4.1000912146\\out\\extension.node.js:2:1211912)",
      "at c:\\Users\\princ\\.vscode\\extensions\\ms-toolsai.jupyter-2022.4.1000912146\\out\\extension.node.js:2:508868",
      "at t.swallowExceptions (c:\\Users\\princ\\.vscode\\extensions\\ms-toolsai.jupyter-2022.4.1000912146\\out\\extension.node.js:2:900969)",
      "at dispose (c:\\Users\\princ\\.vscode\\extensions\\ms-toolsai.jupyter-2022.4.1000912146\\out\\extension.node.js:2:508846)",
      "at t.RawSession.dispose (c:\\Users\\princ\\.vscode\\extensions\\ms-toolsai.jupyter-2022.4.1000912146\\out\\extension.node.js:2:512523)",
      "at runMicrotasks (<anonymous>)",
      "at processTicksAndRejections (node:internal/process/task_queues:96:5)"
     ]
    }
   ],
   "source": [
    "df['distance'] = df.apply(lambda x: hs.haversine((x['Latitude'], x['Longitude']), (x['Latitude'], x['Longitude'])), axis=1)\n",
    "df.head()"
   ]
  },
  {
   "cell_type": "code",
   "execution_count": null,
   "metadata": {},
   "outputs": [],
   "source": []
  }
 ],
 "metadata": {
  "interpreter": {
   "hash": "fe931fc00aae84fbb0e979f82652a462550258a3781d9c97e8e4daa933cbf1f3"
  },
  "kernelspec": {
   "display_name": "Python 3.9.7 ('base')",
   "language": "python",
   "name": "python3"
  },
  "language_info": {
   "codemirror_mode": {
    "name": "ipython",
    "version": 3
   },
   "file_extension": ".py",
   "mimetype": "text/x-python",
   "name": "python",
   "nbconvert_exporter": "python",
   "pygments_lexer": "ipython3",
   "version": "3.9.7"
  },
  "orig_nbformat": 4
 },
 "nbformat": 4,
 "nbformat_minor": 2
}
