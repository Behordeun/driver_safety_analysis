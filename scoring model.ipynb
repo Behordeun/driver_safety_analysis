{
 "cells": [
  {
   "cell_type": "code",
   "execution_count": 36,
   "metadata": {},
   "outputs": [],
   "source": [
    "import pandas as pd\n",
    "import numpy as np\n",
    "import plotly.graph_objects as go\n",
    "import plotly.express as px\n",
    "import plotly.figure_factory as ff\n",
    "import plotly.io as pio\n",
    "import haversine as hs\n",
    "import scipy.stats as st\n",
    "\n",
    "import matplotlib.pyplot as plt\n",
    "import seaborn as sns\n",
    "sns.set()\n",
    "\n",
    "from sklearn.neighbors import LocalOutlierFactor\n",
    "from sklearn.decomposition import PCA\n",
    "from sklearn.linear_model import LinearRegression\n",
    "from faker import Faker\n",
    "\n",
    "pio.renderers.default = \"notebook\"\n",
    "\n",
    "## Suppress scientific notation\n",
    "pd.options.display.float_format = '{:.4f}'.format\n",
    "\n",
    "import warnings\n",
    "warnings.filterwarnings(\"ignore\")"
   ]
  },
  {
   "cell_type": "code",
   "execution_count": 2,
   "metadata": {},
   "outputs": [
    {
     "data": {
      "text/html": [
       "<div>\n",
       "<style scoped>\n",
       "    .dataframe tbody tr th:only-of-type {\n",
       "        vertical-align: middle;\n",
       "    }\n",
       "\n",
       "    .dataframe tbody tr th {\n",
       "        vertical-align: top;\n",
       "    }\n",
       "\n",
       "    .dataframe thead th {\n",
       "        text-align: right;\n",
       "    }\n",
       "</style>\n",
       "<table border=\"1\" class=\"dataframe\">\n",
       "  <thead>\n",
       "    <tr style=\"text-align: right;\">\n",
       "      <th></th>\n",
       "      <th>DriverId</th>\n",
       "      <th>EventName</th>\n",
       "      <th>Latitude</th>\n",
       "      <th>Longitude</th>\n",
       "      <th>Speed km/h</th>\n",
       "      <th>ts</th>\n",
       "    </tr>\n",
       "  </thead>\n",
       "  <tbody>\n",
       "    <tr>\n",
       "      <th>0</th>\n",
       "      <td>0</td>\n",
       "      <td>Timed Event</td>\n",
       "      <td>34.1866</td>\n",
       "      <td>-118.0881</td>\n",
       "      <td>64.0000</td>\n",
       "      <td>2017-11-01 00:00:02.430</td>\n",
       "    </tr>\n",
       "    <tr>\n",
       "      <th>1</th>\n",
       "      <td>0</td>\n",
       "      <td>Distance Event</td>\n",
       "      <td>34.1861</td>\n",
       "      <td>-118.0892</td>\n",
       "      <td>53.0000</td>\n",
       "      <td>2017-11-01 00:00:05.600</td>\n",
       "    </tr>\n",
       "    <tr>\n",
       "      <th>2</th>\n",
       "      <td>0</td>\n",
       "      <td>Distance Event</td>\n",
       "      <td>34.1864</td>\n",
       "      <td>-118.0896</td>\n",
       "      <td>34.0000</td>\n",
       "      <td>2017-11-01 00:00:13.640</td>\n",
       "    </tr>\n",
       "    <tr>\n",
       "      <th>3</th>\n",
       "      <td>0</td>\n",
       "      <td>Distance Event</td>\n",
       "      <td>34.1875</td>\n",
       "      <td>-118.0889</td>\n",
       "      <td>33.0000</td>\n",
       "      <td>2017-11-01 00:00:26.070</td>\n",
       "    </tr>\n",
       "    <tr>\n",
       "      <th>4</th>\n",
       "      <td>0</td>\n",
       "      <td>Distance Event</td>\n",
       "      <td>34.1887</td>\n",
       "      <td>-118.0865</td>\n",
       "      <td>32.0000</td>\n",
       "      <td>2017-11-01 00:00:35.090</td>\n",
       "    </tr>\n",
       "  </tbody>\n",
       "</table>\n",
       "</div>"
      ],
      "text/plain": [
       "   DriverId       EventName  Latitude  Longitude  Speed km/h  \\\n",
       "0         0     Timed Event   34.1866  -118.0881     64.0000   \n",
       "1         0  Distance Event   34.1861  -118.0892     53.0000   \n",
       "2         0  Distance Event   34.1864  -118.0896     34.0000   \n",
       "3         0  Distance Event   34.1875  -118.0889     33.0000   \n",
       "4         0  Distance Event   34.1887  -118.0865     32.0000   \n",
       "\n",
       "                        ts  \n",
       "0  2017-11-01 00:00:02.430  \n",
       "1  2017-11-01 00:00:05.600  \n",
       "2  2017-11-01 00:00:13.640  \n",
       "3  2017-11-01 00:00:26.070  \n",
       "4  2017-11-01 00:00:35.090  "
      ]
     },
     "execution_count": 2,
     "metadata": {},
     "output_type": "execute_result"
    }
   ],
   "source": [
    "df = pd.read_csv('./dataset.csv')\n",
    "df.head()"
   ]
  },
  {
   "cell_type": "code",
   "execution_count": 3,
   "metadata": {},
   "outputs": [
    {
     "data": {
      "text/html": [
       "<div>\n",
       "<style scoped>\n",
       "    .dataframe tbody tr th:only-of-type {\n",
       "        vertical-align: middle;\n",
       "    }\n",
       "\n",
       "    .dataframe tbody tr th {\n",
       "        vertical-align: top;\n",
       "    }\n",
       "\n",
       "    .dataframe thead th {\n",
       "        text-align: right;\n",
       "    }\n",
       "</style>\n",
       "<table border=\"1\" class=\"dataframe\">\n",
       "  <thead>\n",
       "    <tr style=\"text-align: right;\">\n",
       "      <th></th>\n",
       "      <th>DriverId</th>\n",
       "      <th>EventName</th>\n",
       "      <th>Latitude</th>\n",
       "      <th>Longitude</th>\n",
       "      <th>Speed km/h</th>\n",
       "      <th>ts</th>\n",
       "    </tr>\n",
       "  </thead>\n",
       "  <tbody>\n",
       "    <tr>\n",
       "      <th>0</th>\n",
       "      <td>0</td>\n",
       "      <td>Timed Event</td>\n",
       "      <td>34.1866</td>\n",
       "      <td>-118.0881</td>\n",
       "      <td>64.0000</td>\n",
       "      <td>2017-11-01 00:00:02.430</td>\n",
       "    </tr>\n",
       "    <tr>\n",
       "      <th>1</th>\n",
       "      <td>0</td>\n",
       "      <td>Distance Event</td>\n",
       "      <td>34.1861</td>\n",
       "      <td>-118.0892</td>\n",
       "      <td>53.0000</td>\n",
       "      <td>2017-11-01 00:00:05.600</td>\n",
       "    </tr>\n",
       "    <tr>\n",
       "      <th>2</th>\n",
       "      <td>0</td>\n",
       "      <td>Distance Event</td>\n",
       "      <td>34.1864</td>\n",
       "      <td>-118.0896</td>\n",
       "      <td>34.0000</td>\n",
       "      <td>2017-11-01 00:00:13.640</td>\n",
       "    </tr>\n",
       "    <tr>\n",
       "      <th>3</th>\n",
       "      <td>0</td>\n",
       "      <td>Distance Event</td>\n",
       "      <td>34.1875</td>\n",
       "      <td>-118.0889</td>\n",
       "      <td>33.0000</td>\n",
       "      <td>2017-11-01 00:00:26.070</td>\n",
       "    </tr>\n",
       "    <tr>\n",
       "      <th>4</th>\n",
       "      <td>0</td>\n",
       "      <td>Distance Event</td>\n",
       "      <td>34.1887</td>\n",
       "      <td>-118.0865</td>\n",
       "      <td>32.0000</td>\n",
       "      <td>2017-11-01 00:00:35.090</td>\n",
       "    </tr>\n",
       "  </tbody>\n",
       "</table>\n",
       "</div>"
      ],
      "text/plain": [
       "   DriverId       EventName  Latitude  Longitude  Speed km/h  \\\n",
       "0         0     Timed Event   34.1866  -118.0881     64.0000   \n",
       "1         0  Distance Event   34.1861  -118.0892     53.0000   \n",
       "2         0  Distance Event   34.1864  -118.0896     34.0000   \n",
       "3         0  Distance Event   34.1875  -118.0889     33.0000   \n",
       "4         0  Distance Event   34.1887  -118.0865     32.0000   \n",
       "\n",
       "                       ts  \n",
       "0 2017-11-01 00:00:02.430  \n",
       "1 2017-11-01 00:00:05.600  \n",
       "2 2017-11-01 00:00:13.640  \n",
       "3 2017-11-01 00:00:26.070  \n",
       "4 2017-11-01 00:00:35.090  "
      ]
     },
     "execution_count": 3,
     "metadata": {},
     "output_type": "execute_result"
    }
   ],
   "source": [
    "df['ts'] = pd.to_datetime(df['ts'])\n",
    "df.head()"
   ]
  },
  {
   "cell_type": "code",
   "execution_count": 22,
   "metadata": {},
   "outputs": [
    {
     "data": {
      "text/plain": [
       "10108.0"
      ]
     },
     "execution_count": 22,
     "metadata": {},
     "output_type": "execute_result"
    }
   ],
   "source": [
    "eventsPerDriver = df.groupby('DriverId').agg({\"EventName\":\"count\"}).add_suffix('_count')\n",
    "averageNoEvents = np.mean(eventsPerDriver).values[0].round(1)\n",
    "averageNoEvents"
   ]
  },
  {
   "cell_type": "code",
   "execution_count": 24,
   "metadata": {},
   "outputs": [
    {
     "data": {
      "text/html": [
       "<div>\n",
       "<style scoped>\n",
       "    .dataframe tbody tr th:only-of-type {\n",
       "        vertical-align: middle;\n",
       "    }\n",
       "\n",
       "    .dataframe tbody tr th {\n",
       "        vertical-align: top;\n",
       "    }\n",
       "\n",
       "    .dataframe thead th {\n",
       "        text-align: right;\n",
       "    }\n",
       "</style>\n",
       "<table border=\"1\" class=\"dataframe\">\n",
       "  <thead>\n",
       "    <tr style=\"text-align: right;\">\n",
       "      <th></th>\n",
       "      <th>EventName_count</th>\n",
       "    </tr>\n",
       "    <tr>\n",
       "      <th>DriverId</th>\n",
       "      <th></th>\n",
       "    </tr>\n",
       "  </thead>\n",
       "  <tbody>\n",
       "    <tr>\n",
       "      <th>49</th>\n",
       "      <td>31942</td>\n",
       "    </tr>\n",
       "    <tr>\n",
       "      <th>77</th>\n",
       "      <td>30420</td>\n",
       "    </tr>\n",
       "    <tr>\n",
       "      <th>45</th>\n",
       "      <td>30319</td>\n",
       "    </tr>\n",
       "    <tr>\n",
       "      <th>51</th>\n",
       "      <td>26917</td>\n",
       "    </tr>\n",
       "    <tr>\n",
       "      <th>5</th>\n",
       "      <td>24152</td>\n",
       "    </tr>\n",
       "  </tbody>\n",
       "</table>\n",
       "</div>"
      ],
      "text/plain": [
       "          EventName_count\n",
       "DriverId                 \n",
       "49                  31942\n",
       "77                  30420\n",
       "45                  30319\n",
       "51                  26917\n",
       "5                   24152"
      ]
     },
     "execution_count": 24,
     "metadata": {},
     "output_type": "execute_result"
    }
   ],
   "source": [
    "eventsPerDriver.sort_values(by='EventName_count', ascending=False, inplace=True)\n",
    "eventsPerDriver.head()"
   ]
  },
  {
   "cell_type": "code",
   "execution_count": 25,
   "metadata": {},
   "outputs": [
    {
     "data": {
      "text/html": [
       "<div>\n",
       "<style scoped>\n",
       "    .dataframe tbody tr th:only-of-type {\n",
       "        vertical-align: middle;\n",
       "    }\n",
       "\n",
       "    .dataframe tbody tr th {\n",
       "        vertical-align: top;\n",
       "    }\n",
       "\n",
       "    .dataframe thead th {\n",
       "        text-align: right;\n",
       "    }\n",
       "</style>\n",
       "<table border=\"1\" class=\"dataframe\">\n",
       "  <thead>\n",
       "    <tr style=\"text-align: right;\">\n",
       "      <th></th>\n",
       "      <th>EventName</th>\n",
       "      <th>EventName_Count</th>\n",
       "    </tr>\n",
       "  </thead>\n",
       "  <tbody>\n",
       "    <tr>\n",
       "      <th>8</th>\n",
       "      <td>Harsh Turn Left (motion based)</td>\n",
       "      <td>805</td>\n",
       "    </tr>\n",
       "    <tr>\n",
       "      <th>4</th>\n",
       "      <td>Harsh Acceleration (motion based)</td>\n",
       "      <td>808</td>\n",
       "    </tr>\n",
       "    <tr>\n",
       "      <th>9</th>\n",
       "      <td>Harsh Turn Right (motion based)</td>\n",
       "      <td>853</td>\n",
       "    </tr>\n",
       "    <tr>\n",
       "      <th>6</th>\n",
       "      <td>Harsh Braking (motion based)</td>\n",
       "      <td>1838</td>\n",
       "    </tr>\n",
       "    <tr>\n",
       "      <th>7</th>\n",
       "      <td>Harsh Turn (motion based)</td>\n",
       "      <td>2298</td>\n",
       "    </tr>\n",
       "  </tbody>\n",
       "</table>\n",
       "</div>"
      ],
      "text/plain": [
       "                           EventName  EventName_Count\n",
       "8     Harsh Turn Left (motion based)              805\n",
       "4  Harsh Acceleration (motion based)              808\n",
       "9    Harsh Turn Right (motion based)              853\n",
       "6       Harsh Braking (motion based)             1838\n",
       "7          Harsh Turn (motion based)             2298"
      ]
     },
     "execution_count": 25,
     "metadata": {},
     "output_type": "execute_result"
    }
   ],
   "source": [
    "dfReasonHist = df.groupby(['EventName'])[['EventName']].agg('count').add_suffix('_Count').reset_index().sort_values('EventName_Count',ascending=True)\n",
    "dfReasonHist.head()"
   ]
  },
  {
   "cell_type": "code",
   "execution_count": 37,
   "metadata": {},
   "outputs": [
    {
     "data": {
      "image/png": "[encoded data removed]",
      "text/plain": [
       "<Figure size 1296x576 with 1 Axes>"
      ]
     },
     "metadata": {},
     "output_type": "display_data"
    }
   ],
   "source": [
    "dfReasonHist.plot.barh('EventName','EventName_Count',figsize=(18,8),fontsize = 16, color = '#00bcd4', edgecolor = '#00bcd4', title = 'Distribution of events')\n",
    "\n",
    "plt.legend()\n",
    "plt.show()"
   ]
  },
  {
   "cell_type": "markdown",
   "metadata": {},
   "source": [
    "Remov"
   ]
  },
  {
   "cell_type": "code",
   "execution_count": null,
   "metadata": {},
   "outputs": [],
   "source": []
  }
 ],
 "metadata": {
  "interpreter": {
   "hash": "fe931fc00aae84fbb0e979f82652a462550258a3781d9c97e8e4daa933cbf1f3"
  },
  "kernelspec": {
   "display_name": "Python 3 (ipykernel)",
   "language": "python",
   "name": "python3"
  },
  "language_info": {
   "codemirror_mode": {
    "name": "ipython",
    "version": 3
   },
   "file_extension": ".py",
   "mimetype": "text/x-python",
   "name": "python",
   "nbconvert_exporter": "python",
   "pygments_lexer": "ipython3",
   "version": "3.9.7"
  }
 },
 "nbformat": 4,
 "nbformat_minor": 4
}
